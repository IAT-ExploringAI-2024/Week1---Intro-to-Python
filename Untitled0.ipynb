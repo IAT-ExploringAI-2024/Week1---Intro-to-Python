{
  "nbformat": 4,
  "nbformat_minor": 0,
  "metadata": {
    "colab": {
      "provenance": [],
      "authorship_tag": "ABX9TyOuzNTA+5e+nJOqcL1kXXzj",
      "include_colab_link": true
    },
    "kernelspec": {
      "name": "python3",
      "display_name": "Python 3"
    },
    "language_info": {
      "name": "python"
    }
  },
  "cells": [
    {
      "cell_type": "markdown",
      "metadata": {
        "id": "view-in-github",
        "colab_type": "text"
      },
      "source": [
        "<a href=\"https://colab.research.google.com/github/jigangz/Week1---Intro-to-Python/blob/new/Untitled0.ipynb\" target=\"_parent\"><img src=\"https://colab.research.google.com/assets/colab-badge.svg\" alt=\"Open In Colab\"/></a>"
      ]
    },
    {
      "cell_type": "code",
      "source": [
        "# Adding two numbers\n",
        "a = 5\n",
        "b = 3\n",
        "result = a + b\n",
        "print(result)  # Output: 8\n"
      ],
      "metadata": {
        "id": "gVY77TiytaA6"
      },
      "execution_count": null,
      "outputs": []
    },
    {
      "cell_type": "code",
      "source": [
        "# Using f-string to format a string\n",
        "name = \"John\"\n",
        "age = 25\n",
        "greeting = f\"Hello, my name is {name} and I am {age} years old.\"\n",
        "print(greeting)\n"
      ],
      "metadata": {
        "id": "rBEcABi0tbmc"
      },
      "execution_count": null,
      "outputs": []
    },
    {
      "cell_type": "code",
      "source": [
        "# Checking if a number is even or odd\n",
        "num = 4\n",
        "if num % 2 == 0:\n",
        "    print(f\"{num} is even\")\n",
        "else:\n",
        "    print(f\"{num} is odd\")\n"
      ],
      "metadata": {
        "id": "n7uPj4WF_Dmh"
      },
      "execution_count": null,
      "outputs": []
    },
    {
      "cell_type": "code",
      "source": [
        "# Using a for loop to iterate over a range of numbers\n",
        "for i in range(5):\n",
        "    print(f\"Iteration {i}\")\n"
      ],
      "metadata": {
        "id": "9PHJBW0q_DvR"
      },
      "execution_count": null,
      "outputs": []
    },
    {
      "cell_type": "code",
      "source": [
        "# While loop to sum numbers from 1 to 5\n",
        "total = 0\n",
        "i = 1\n",
        "while i <= 5:\n",
        "    total += i\n",
        "    i += 1\n",
        "print(f\"Sum of numbers from 1 to 5: {total}\")\n"
      ],
      "metadata": {
        "id": "aUutgeQc_D6b"
      },
      "execution_count": null,
      "outputs": []
    },
    {
      "cell_type": "code",
      "source": [
        "# Creating a list of squares using list comprehension\n",
        "squares = [x**2 for x in range(1, 6)]\n",
        "print(squares)  # Output: [1, 4, 9, 16, 25]\n"
      ],
      "metadata": {
        "id": "Fc-RuAA8_D9H"
      },
      "execution_count": null,
      "outputs": []
    },
    {
      "cell_type": "code",
      "source": [
        "# Defining a function to calculate the area of a rectangle\n",
        "def area_of_rectangle(length, width):\n",
        "    return length * width\n",
        "\n",
        "# Calling the function\n",
        "print(area_of_rectangle(5, 3))\n"
      ],
      "metadata": {
        "id": "DzLqdT0Y_D_d"
      },
      "execution_count": null,
      "outputs": []
    },
    {
      "cell_type": "code",
      "source": [
        "# Creating a simple class for a Dog\n",
        "class Dog:\n",
        "    def __init__(self, name, age):\n",
        "        self.name = name\n",
        "        self.age = age\n",
        "\n",
        "    def bark(self):\n",
        "        print(f\"{self.name} is barking!\")\n",
        "\n",
        "# Creating an object of the Dog class\n",
        "my_dog = Dog(\"Buddy\", 2)\n",
        "my_dog.bark()\n"
      ],
      "metadata": {
        "id": "vjf-Qenx_EBx"
      },
      "execution_count": null,
      "outputs": []
    },
    {
      "cell_type": "code",
      "source": [
        "# Iterating over a dictionary's keys and values\n",
        "person = {\"name\": \"Alice\", \"age\": 30, \"city\": \"New York\"}\n",
        "for key, value in person.items():\n",
        "    print(f\"{key}: {value}\")\n"
      ],
      "metadata": {
        "id": "hrCSt-C7_ED1"
      },
      "execution_count": null,
      "outputs": []
    },
    {
      "cell_type": "code",
      "source": [
        "# Using list methods to append and remove items\n",
        "fruits = [\"apple\", \"banana\", \"cherry\"]\n",
        "fruits.append(\"orange\")\n",
        "fruits.remove(\"banana\")\n",
        "print(fruits)  # Output: ['apple', 'cherry', 'orange']\n",
        "\n"
      ],
      "metadata": {
        "id": "GqG-poYK_SeD"
      },
      "execution_count": null,
      "outputs": []
    }
  ]
}